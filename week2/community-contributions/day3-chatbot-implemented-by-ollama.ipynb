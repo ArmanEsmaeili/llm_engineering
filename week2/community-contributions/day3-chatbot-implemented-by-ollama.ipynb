{
 "cells": [
  {
   "cell_type": "code",
   "execution_count": null,
   "id": "08e1417b-c332-40f6-b60f-9c7f678085cf",
   "metadata": {},
   "outputs": [],
   "source": [
    "# imports\n",
    "from openai import OpenAI\n",
    "import gradio as gr"
   ]
  },
  {
   "cell_type": "code",
   "execution_count": null,
   "id": "19350a90-cb97-440a-91e3-f723c4ed1678",
   "metadata": {},
   "outputs": [],
   "source": [
    "# adding constants\n",
    "MODEL_LLAMA = 'llama3.2'\n",
    "BASE_URL = 'http://localhost:11434/v1'\n",
    "API_KEY = 'ollama'\n",
    "\n",
    "system_message = \"You are a helpful assistant\""
   ]
  },
  {
   "cell_type": "code",
   "execution_count": null,
   "id": "89d91988-50b2-42a3-86cb-da68bb48aabe",
   "metadata": {},
   "outputs": [],
   "source": [
    "# simple implementation of chatbot using ollama \n",
    "\n",
    "def chat(message, history):\n",
    "    messages = [{\"role\": \"system\", \"content\": system_message}] + history + [{\"role\": \"user\", \"content\": message}]\n",
    "    client = OpenAI(base_url = BASE_URL, api_key = API_KEY)\n",
    "    \n",
    "    print(\"History is:\")\n",
    "    print(history)\n",
    "    print(\"And messages is:\")\n",
    "    print(messages)\n",
    "\n",
    "    stream = client.chat.completions.create(model= MODEL_LLAMA, messages=messages, stream=True)\n",
    "\n",
    "    response = \"\"\n",
    "    for chunk in stream:\n",
    "        response += chunk.choices[0].delta.content or ''\n",
    "        yield response"
   ]
  },
  {
   "cell_type": "code",
   "execution_count": null,
   "id": "e44a2a47-0029-4378-927c-00a11eeae479",
   "metadata": {},
   "outputs": [],
   "source": [
    "gr.ChatInterface(fn=chat, type=\"messages\").launch(inbrowser = True)"
   ]
  },
  {
   "cell_type": "code",
   "execution_count": null,
   "id": "a027627f-4840-4f0e-9e1b-46a0dfcc4092",
   "metadata": {},
   "outputs": [],
   "source": []
  }
 ],
 "metadata": {
  "kernelspec": {
   "display_name": "Python 3 (ipykernel)",
   "language": "python",
   "name": "python3"
  },
  "language_info": {
   "codemirror_mode": {
    "name": "ipython",
    "version": 3
   },
   "file_extension": ".py",
   "mimetype": "text/x-python",
   "name": "python",
   "nbconvert_exporter": "python",
   "pygments_lexer": "ipython3",
   "version": "3.11.13"
  }
 },
 "nbformat": 4,
 "nbformat_minor": 5
}
