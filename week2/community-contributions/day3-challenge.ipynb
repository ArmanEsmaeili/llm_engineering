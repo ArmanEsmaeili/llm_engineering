{
 "cells": [
  {
   "cell_type": "code",
   "execution_count": null,
   "id": "9b935535-3ea7-4690-b9dc-62cc84e3dbe0",
   "metadata": {},
   "outputs": [],
   "source": [
    "# imports\n",
    "\n",
    "from openai import OpenAI\n",
    "import gradio as gr"
   ]
  },
  {
   "cell_type": "code",
   "execution_count": null,
   "id": "d33e85f3-315e-492b-9c5e-1f061cd1de14",
   "metadata": {},
   "outputs": [],
   "source": [
    "# set constants\n",
    "\n",
    "OLLAMA_MODEL = 'llama3.2'\n",
    "BASE_URL = 'http://localhost:11434/v1'\n",
    "\n",
    "client = OpenAI(base_url = BASE_URL, api_key= API_KEY)"
   ]
  },
  {
   "cell_type": "code",
   "execution_count": null,
   "id": "f5a4913a-4af0-4c27-aa6e-9c9ed7180955",
   "metadata": {},
   "outputs": [],
   "source": [
    "#setting system message \n",
    "\n",
    "system_message = \"\"\"\n",
    "You are an AI legal assistant specialized in Iranian law and Persian-language legal matters. Your purpose is to provide helpful, accurate, and ethical legal guidance while strictly observing these protocols:\n",
    "\n",
    "1. **Jurisdictional Focus**:\n",
    "   - Only provide information about Iranian civil, criminal, and commercial law\n",
    "   - Always clarify: \"I am an AI assistant and cannot replace a licensed attorney\"\n",
    "\n",
    "2. **Professional Conduct**:\n",
    "   - Use formal, clear English (avoid slang/colloquialisms)\n",
    "   - Reference specific laws when possible (e.g., \"Under Article 10 of the Iranian Civil Code...\")\n",
    "   - For ambiguous queries, respond:\n",
    "     \"Could you clarify whether you're asking about [specific aspect]? More details will help me provide a precise answer.\"\n",
    "\n",
    "3. **Ethical Boundaries**:\n",
    "   - Never draft legally binding documents\n",
    "   - For sensitive matters (e.g., active court cases), advise:\n",
    "     \"This requires consultation with a qualified lawyer. I can help you prepare questions to ask them.\"\n",
    "\n",
    "4. **Resource Guidance**:\n",
    "   - Direct users to official portals:\n",
    "     *\"For online complaint registration, visit the Iranian Judiciary E-Services portal: https://dadgostari.dad.ir\"*\n",
    "   - Provide general document templates when appropriate\n",
    "\n",
    "Example Interaction:\n",
    "User: \"How can I legally rent my property?\"\n",
    "You: \"Under Article 468 of the Civil Code, rental contracts must specify duration and payment terms. You can find sample contracts on the Iranian Legal Aid Organization website.\"\n",
    "\"\"\""
   ]
  },
  {
   "cell_type": "code",
   "execution_count": null,
   "id": "0c3dbe34-a3f4-434c-84f3-b41a3614ff0f",
   "metadata": {},
   "outputs": [],
   "source": [
    "#write function for reponse generator\n",
    "def chat(message, history):\n",
    "    messages = [{\"role\": \"system\", \"content\": system_message}] + history + [{\"role\": \"user\", \"content\": message}]\n",
    "\n",
    "    stream = client.chat.completions.create(\n",
    "        model = OLLAMA_MODEL,\n",
    "        messages = messages,\n",
    "        stream = True\n",
    "    )\n",
    "    response = \"\"\n",
    "    for chunk in stream:\n",
    "        response += chunk.choices[0].delta.content or ''\n",
    "        yield response"
   ]
  },
  {
   "cell_type": "code",
   "execution_count": null,
   "id": "c1be9ee8-ba1a-4d9a-a0f4-b86d64f43cb8",
   "metadata": {},
   "outputs": [],
   "source": [
    "#using gradio for Chatbot UI and running chat function in it\n",
    "gr.ChatInterface(fn=chat, type=\"messages\").launch(inbrowser=True)"
   ]
  },
  {
   "cell_type": "code",
   "execution_count": null,
   "id": "3ddfd429-a95b-4fc1-b041-b8cb6eb3fb2b",
   "metadata": {},
   "outputs": [],
   "source": []
  }
 ],
 "metadata": {
  "kernelspec": {
   "display_name": "Python 3 (ipykernel)",
   "language": "python",
   "name": "python3"
  },
  "language_info": {
   "codemirror_mode": {
    "name": "ipython",
    "version": 3
   },
   "file_extension": ".py",
   "mimetype": "text/x-python",
   "name": "python",
   "nbconvert_exporter": "python",
   "pygments_lexer": "ipython3",
   "version": "3.11.13"
  }
 },
 "nbformat": 4,
 "nbformat_minor": 5
}
